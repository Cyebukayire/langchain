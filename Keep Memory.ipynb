{
 "cells": [
  {
   "cell_type": "code",
   "execution_count": 7,
   "id": "15c3c931",
   "metadata": {},
   "outputs": [],
   "source": [
    "from langchain.llms import OpenAI\n",
    "from langchain.prompts import PromptTemplate\n",
    "from langchain.chains import ConversationChain\n",
    "from langchain.memory import ConversationBufferWindowMemory, CombinedMemory, ConversationSummaryMemory\n",
    "import os"
   ]
  },
  {
   "cell_type": "code",
   "execution_count": 8,
   "id": "8f6c77d1",
   "metadata": {},
   "outputs": [],
   "source": [
    "os.environ['OPENAI_API_KEY'] = \"\""
   ]
  },
  {
   "cell_type": "code",
   "execution_count": 10,
   "id": "3259fa2b",
   "metadata": {},
   "outputs": [],
   "source": [
    "# Determine a certain number of conversations we need to keep in our chain\n",
    "conv_memory = ConversationBufferWindowMemory(\n",
    "memory_key = \"chat_history_lines\",\n",
    "input_key = \"input\",\n",
    "k = 1 # Include only the latest conversations in the prompt\n",
    ")\n",
    "\n",
    "# Summarise all previous conversations (Helps save a number of tokens)\n",
    "summary_memory = ConversationSummaryMemory(llm = OpenAI(), input_key = \"input\")\n",
    "memory = CombinedMemory(memories = [conv_memory, summary_memory])\n"
   ]
  },
  {
   "cell_type": "code",
   "execution_count": null,
   "id": "06477f63",
   "metadata": {},
   "outputs": [],
   "source": []
  },
  {
   "cell_type": "code",
   "execution_count": 3,
   "id": "816f2b8d",
   "metadata": {},
   "outputs": [],
   "source": [
    "_DEFAULT_TEMPLATE = \"\"\"The following is a conversation between a human and AI\n",
    "Summary of conversation:\n",
    "{history}\n",
    "Current conversation:\n",
    "{chat_history_lines}\n",
    "Human: {input}\n",
    "AI:\"\"\"\n"
   ]
  },
  {
   "cell_type": "code",
   "execution_count": 5,
   "id": "734c4320",
   "metadata": {},
   "outputs": [],
   "source": [
    "PROMPT = PromptTemplate(\n",
    "input_variables = ['history', 'input', 'chat_history_lines'],\n",
    "template = _DEFAULT_TEMPLATE\n",
    ")"
   ]
  },
  {
   "cell_type": "code",
   "execution_count": 11,
   "id": "0dae9dc1",
   "metadata": {},
   "outputs": [],
   "source": [
    "llm = OpenAI(temperature = 0)\n",
    "conversation = ConversationChain(\n",
    "llm = llm,\n",
    "    verbose = True,\n",
    "    memory = memory,\n",
    "    prompt = PROMPT\n",
    ")"
   ]
  },
  {
   "cell_type": "code",
   "execution_count": 14,
   "id": "27bb9dfe",
   "metadata": {},
   "outputs": [
    {
     "name": "stdout",
     "output_type": "stream",
     "text": [
      "\n",
      "\n",
      "\u001b[1m> Entering new ConversationChain chain...\u001b[0m\n",
      "Prompt after formatting:\n",
      "\u001b[32;1m\u001b[1;3mThe following is a conversation between a human and AI\n",
      "Summary of conversation:\n",
      "\n",
      "\n",
      "The human asks what the AI thinks of artificial intelligence. The AI thinks artificial intelligence is a force for good because it will help humans reach their full potential. The human also asked the AI to tell a joke, and the AI responded with a joke about a fish hitting a wall, saying \"Dam!\"\n",
      "Current conversation:\n",
      "Human: Can you tell me a joke?\n",
      "AI:  Sure! What did the fish say when it hit the wall? \"Dam!\"\n",
      "Human: Hi, darling\n",
      "AI:\u001b[0m\n",
      "\n",
      "\u001b[1m> Finished chain.\u001b[0m\n"
     ]
    },
    {
     "data": {
      "text/plain": [
       "' Hi there! What can I do for you?'"
      ]
     },
     "execution_count": 14,
     "metadata": {},
     "output_type": "execute_result"
    }
   ],
   "source": [
    "conversation.run(\"Hi, darling\")"
   ]
  },
  {
   "cell_type": "code",
   "execution_count": 15,
   "id": "608e390a",
   "metadata": {},
   "outputs": [
    {
     "name": "stdout",
     "output_type": "stream",
     "text": [
      "\n",
      "\n",
      "\u001b[1m> Entering new ConversationChain chain...\u001b[0m\n",
      "Prompt after formatting:\n",
      "\u001b[32;1m\u001b[1;3mThe following is a conversation between a human and AI\n",
      "Summary of conversation:\n",
      "\n",
      "The human asks what the AI thinks of artificial intelligence. The AI thinks artificial intelligence is a force for good because it will help humans reach their full potential. The human also asked the AI to tell a joke, and the AI responded with a joke about a fish hitting a wall, saying \"Dam!\" The human then greeted the AI with \"Hi, darling\" and the AI responded with \"Hi there! What can I do for you?\"\n",
      "Current conversation:\n",
      "Human: Hi, darling\n",
      "AI:  Hi there! What can I do for you?\n",
      "Human: Can you tell me a joke?\n",
      "AI:\u001b[0m\n",
      "\n",
      "\u001b[1m> Finished chain.\u001b[0m\n"
     ]
    },
    {
     "data": {
      "text/plain": [
       "' Sure! Why did the fish hit the wall? Dam!'"
      ]
     },
     "execution_count": 15,
     "metadata": {},
     "output_type": "execute_result"
    }
   ],
   "source": [
    "conversation.run(\"Can you tell me a joke?\")"
   ]
  },
  {
   "cell_type": "code",
   "execution_count": 16,
   "id": "a60e2e49",
   "metadata": {},
   "outputs": [
    {
     "name": "stdout",
     "output_type": "stream",
     "text": [
      "\n",
      "\n",
      "\u001b[1m> Entering new ConversationChain chain...\u001b[0m\n",
      "Prompt after formatting:\n",
      "\u001b[32;1m\u001b[1;3mThe following is a conversation between a human and AI\n",
      "Summary of conversation:\n",
      "\n",
      "The human asked what the AI thinks of artificial intelligence, and the AI responded that it is a force for good because it will help humans reach their full potential. The human then asked the AI to tell a joke, which the AI did, and the human greeted the AI with \"Hi, darling\" to which the AI responded with \"Hi there! What can I do for you?\"\n",
      "Current conversation:\n",
      "Human: Can you tell me a joke?\n",
      "AI:  Sure! Why did the fish hit the wall? Dam!\n",
      "Human: Hahaha That's funny 😄 \n",
      "AI:\u001b[0m\n",
      "\n",
      "\u001b[1m> Finished chain.\u001b[0m\n"
     ]
    },
    {
     "data": {
      "text/plain": [
       "' Hi there! What can I do for you?'"
      ]
     },
     "execution_count": 16,
     "metadata": {},
     "output_type": "execute_result"
    }
   ],
   "source": [
    "conversation.run(\"Hahaha That's funny 😄 \")"
   ]
  },
  {
   "cell_type": "code",
   "execution_count": null,
   "id": "becea1bc",
   "metadata": {},
   "outputs": [],
   "source": []
  }
 ],
 "metadata": {
  "kernelspec": {
   "display_name": "Python 3 (ipykernel)",
   "language": "python",
   "name": "python3"
  },
  "language_info": {
   "codemirror_mode": {
    "name": "ipython",
    "version": 3
   },
   "file_extension": ".py",
   "mimetype": "text/x-python",
   "name": "python",
   "nbconvert_exporter": "python",
   "pygments_lexer": "ipython3",
   "version": "3.11.2"
  }
 },
 "nbformat": 4,
 "nbformat_minor": 5
}
