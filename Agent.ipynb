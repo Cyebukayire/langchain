{
 "cells": [
  {
   "cell_type": "code",
   "execution_count": 35,
   "id": "f9a5d31a",
   "metadata": {},
   "outputs": [],
   "source": [
    "from langchain.agents import load_tools\n",
    "from langchain.agents import initialize_agent\n",
    "import os\n",
    "from langchain.prompts import PromptTemplate\n",
    "from langchain.chains import ConversationChain\n",
    "from langchain.memory import ConversationBufferWindowMemory, CombinedMemory, ConversationSummaryMemory\n",
    "os.environ[\"SERPAPI_API_KEY\"] = \"\"\n"
   ]
  },
  {
   "cell_type": "code",
   "execution_count": 36,
   "id": "cc643b93",
   "metadata": {},
   "outputs": [],
   "source": [
    "\n",
    "# Load the llm we are going to use to control the agent\n",
    "llm = OpenAI(temperature=0)\n"
   ]
  },
  {
   "cell_type": "code",
   "execution_count": 30,
   "id": "fb3dec11",
   "metadata": {},
   "outputs": [],
   "source": [
    "# Load some tools tto use\n",
    "tools = load_tools(['serpapi', 'llm-math'], llm = llm)\n"
   ]
  },
  {
   "cell_type": "code",
   "execution_count": 31,
   "id": "355380e3",
   "metadata": {},
   "outputs": [],
   "source": [
    "# Initialize agent\n",
    "agent = initialize_agent(tools, llm, agent = \"zero-shot-react-description\", verbose = True)\n"
   ]
  },
  {
   "cell_type": "code",
   "execution_count": 32,
   "id": "89bba02c",
   "metadata": {},
   "outputs": [
    {
     "name": "stdout",
     "output_type": "stream",
     "text": [
      "\n",
      "\n",
      "\u001b[1m> Entering new AgentExecutor chain...\u001b[0m\n",
      "\u001b[32;1m\u001b[1;3m I should search for the answer\n",
      "Action: Search\n",
      "Action Input: Richest woman in the world\u001b[0m\n",
      "Observation: \u001b[36;1m\u001b[1;3mFrançoise Bettencourt Meyers\u001b[0m\n",
      "Thought:\u001b[32;1m\u001b[1;3m I now know the final answer\n",
      "Final Answer: Françoise Bettencourt Meyers is the richest woman in the world.\u001b[0m\n",
      "\n",
      "\u001b[1m> Finished chain.\u001b[0m\n"
     ]
    },
    {
     "data": {
      "text/plain": [
       "'Françoise Bettencourt Meyers is the richest woman in the world.'"
      ]
     },
     "execution_count": 32,
     "metadata": {},
     "output_type": "execute_result"
    }
   ],
   "source": [
    "agent.run(\"Who is the riches woman in the world?\")"
   ]
  }
 ],
 "metadata": {
  "kernelspec": {
   "display_name": "Python 3 (ipykernel)",
   "language": "python",
   "name": "python3"
  },
  "language_info": {
   "codemirror_mode": {
    "name": "ipython",
    "version": 3
   },
   "file_extension": ".py",
   "mimetype": "text/x-python",
   "name": "python",
   "nbconvert_exporter": "python",
   "pygments_lexer": "ipython3",
   "version": "3.11.2"
  }
 },
 "nbformat": 4,
 "nbformat_minor": 5
}
